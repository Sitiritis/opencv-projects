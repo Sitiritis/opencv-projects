version https://git-lfs.github.com/spec/v1
oid sha256:61b68fb86a2ae89769c6e526b22801357d1a6e4f27eedd9254fd779490841275
size 4826
