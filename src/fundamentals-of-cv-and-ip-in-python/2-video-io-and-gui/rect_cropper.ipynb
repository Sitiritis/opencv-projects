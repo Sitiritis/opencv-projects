version https://git-lfs.github.com/spec/v1
oid sha256:baed62217090e776e5d7e8fc02dbf0bdb787a18aae838612c8619e36d49e73c5
size 20180
