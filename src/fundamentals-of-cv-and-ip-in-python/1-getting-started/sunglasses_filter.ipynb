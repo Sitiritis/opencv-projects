version https://git-lfs.github.com/spec/v1
oid sha256:7569fbd9c8b57d7c3006b7dda727e044bd9ef9a9d35639240957fc5ff7007244
size 1024028
