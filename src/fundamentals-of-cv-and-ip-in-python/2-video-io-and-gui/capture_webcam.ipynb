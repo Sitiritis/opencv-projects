version https://git-lfs.github.com/spec/v1
oid sha256:cf4b716fe6e15cfcce291f2ec7ce69944260efc043340462ec7731e538344905
size 4565
