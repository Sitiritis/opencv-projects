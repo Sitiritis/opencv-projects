version https://git-lfs.github.com/spec/v1
oid sha256:950682b6f45d5a6610897e12733925bb96dd99b59e55d72d8aa874a0cd519b96
size 5669
