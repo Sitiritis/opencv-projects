version https://git-lfs.github.com/spec/v1
oid sha256:8db10fdff475ee08e6869535b29b63d8a8eaac1eb3a4ed54c5dcd88bb4b20148
size 5720
