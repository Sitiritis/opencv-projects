version https://git-lfs.github.com/spec/v1
oid sha256:34b474e8cf87200ee4e27efb411facf3e3a32c3e87a5045e7292c2d1f386cc2a
size 18939
