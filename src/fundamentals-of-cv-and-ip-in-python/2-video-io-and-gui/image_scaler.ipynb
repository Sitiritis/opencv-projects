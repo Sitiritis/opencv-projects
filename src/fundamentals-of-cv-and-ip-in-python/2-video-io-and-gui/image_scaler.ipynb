version https://git-lfs.github.com/spec/v1
oid sha256:37bf82a36f7b34e3633a549f02c9bf8ab9486b2ec7577bcde84c1ad87e323a04
size 5493
