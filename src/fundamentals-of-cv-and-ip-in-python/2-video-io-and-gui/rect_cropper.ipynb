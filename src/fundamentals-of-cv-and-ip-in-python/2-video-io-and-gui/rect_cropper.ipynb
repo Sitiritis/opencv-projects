version https://git-lfs.github.com/spec/v1
oid sha256:e301d428b7c564b16746faa376bc2b93e749dd2ed65229f997cb187948047e47
size 20380
