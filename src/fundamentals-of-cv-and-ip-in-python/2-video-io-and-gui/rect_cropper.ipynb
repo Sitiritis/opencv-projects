version https://git-lfs.github.com/spec/v1
oid sha256:1c165d75dd470db8955f3c37c871dcad3e8bbb5a8e817cf83fe1953b62cf6d5c
size 20214
