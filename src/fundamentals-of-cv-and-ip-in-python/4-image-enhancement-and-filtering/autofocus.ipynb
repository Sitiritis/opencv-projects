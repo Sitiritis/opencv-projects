version https://git-lfs.github.com/spec/v1
oid sha256:4772a524d9b7eef64e4dc08099437848fc4e320eee1078c660c7c4b2dee0e8d3
size 5045432
