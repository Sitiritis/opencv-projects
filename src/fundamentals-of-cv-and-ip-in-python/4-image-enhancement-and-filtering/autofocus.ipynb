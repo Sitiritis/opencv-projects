version https://git-lfs.github.com/spec/v1
oid sha256:a8ba7d6934a4117df3115149bc116a237d69bb4110c14d6ae0a7f59ccbb038f9
size 3979370
