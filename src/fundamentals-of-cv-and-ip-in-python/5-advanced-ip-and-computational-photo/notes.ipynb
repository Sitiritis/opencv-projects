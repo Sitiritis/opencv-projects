version https://git-lfs.github.com/spec/v1
oid sha256:e4edef8b1af71abc61e84f56604b80cb34dac7b0866b0db103b337f8f49ae38c
size 6509
