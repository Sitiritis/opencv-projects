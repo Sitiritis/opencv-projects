version https://git-lfs.github.com/spec/v1
oid sha256:277e929aee80cdfeb3049c6862005b09664332fcbeb286d0c9e278f91db9eea2
size 151219
