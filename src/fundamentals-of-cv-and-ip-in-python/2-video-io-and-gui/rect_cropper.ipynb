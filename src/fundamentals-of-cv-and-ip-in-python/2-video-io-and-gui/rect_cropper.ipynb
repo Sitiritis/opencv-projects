version https://git-lfs.github.com/spec/v1
oid sha256:18de1e8b6f6f77b3cac48cc64fadda73eda0f8d59bb634ccb126fc83067f1354
size 20159
