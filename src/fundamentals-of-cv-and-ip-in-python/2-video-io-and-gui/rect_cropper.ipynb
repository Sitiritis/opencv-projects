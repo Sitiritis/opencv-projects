version https://git-lfs.github.com/spec/v1
oid sha256:c8cf977fe94f3ddb5c0eeb4798d0babee49207a307e95aac8f136da96ee62d95
size 13434
